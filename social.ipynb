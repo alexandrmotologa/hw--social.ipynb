{
 "cells": [
  {
   "cell_type": "code",
   "execution_count": 95,
   "metadata": {},
   "outputs": [],
   "source": [
    "## COMMON vs SPECIFFIC LOGIC\n",
    "## RELATIONSHIPS between OBJECTS\n",
    "\n",
    "class User:\n",
    "    # common logic (python specific)\n",
    "    def __init__(self, nickname, password):\n",
    "        self.nickname = nickname\n",
    "        self.password = password\n",
    "        self.online = False\n",
    "        self.friends = []\n",
    "\n",
    "    def __str__(self):\n",
    "        return f\"User <{self.nickname}>\"\n",
    "    \n",
    "    def __repr__(self):\n",
    "        return self.__str__()\n",
    "    \n",
    "    # User specific logic (app specific)\n",
    "    def auth(self, nickname, password):\n",
    "        if nickname == self.nickname and password == self.password:\n",
    "            self.online = True\n",
    "            # lose coupling\n",
    "            return True\n",
    "        else:\n",
    "            return False\n",
    "    \n",
    "    def logout(self):\n",
    "        self.online = False\n",
    "        \n",
    "    def addFriend(self, friend):\n",
    "        # direct reference\n",
    "        # HW2: check if the friend type is User class\n",
    "        if type(friend) == type(self):\n",
    "            # HW1: check if the friend DOESN'T exist yet!\n",
    "            if self.friends.count(friend) < 1 and friend != self:\n",
    "                self.friends.append(friend)"
   ]
  },
  {
   "cell_type": "code",
   "execution_count": 96,
   "metadata": {},
   "outputs": [
    {
     "name": "stdout",
     "output_type": "stream",
     "text": [
      "user mark has friend: []\n",
      "user jeff has friend: []\n",
      "user bill has friend: []\n",
      "user mark has friend: [User <jeff>, User <bill>]\n",
      "user jeff has friend: [User <mark>, User <bill>]\n",
      "user bill has friend: []\n"
     ]
    }
   ],
   "source": [
    "# Using the class objects\n",
    "user_1 = User(\"mark\", \"dadada123\")\n",
    "user_2 = User(\"jeff\", \"amzn123\")\n",
    "user_3 = User(\"bill\", \"mypassword123\")\n",
    "\n",
    "print(f\"user {user_1.nickname} has friend: {user_1.friends}\")\n",
    "print(f\"user {user_2.nickname} has friend: {user_2.friends}\")\n",
    "print(f\"user {user_3.nickname} has friend: {user_3.friends}\")\n",
    "\n",
    "user_1.addFriend(user_2)\n",
    "user_1.addFriend(user_3)\n",
    "user_1.addFriend(user_3)\n",
    "user_1.addFriend(user_3)\n",
    "user_1.addFriend(user_1)\n",
    "user_1.addFriend(user_2)\n",
    "user_1.addFriend(user_2)\n",
    "user_1.addFriend(user_1)\n",
    "user_1.addFriend(None)\n",
    "\n",
    "user_2.addFriend(user_1)\n",
    "user_2.addFriend(user_2)\n",
    "user_2.addFriend(user_3)\n",
    "user_2.addFriend(None)\n",
    "\n",
    "user_3.addFriend(\"HI\")\n",
    "\n",
    "print(f\"user {user_1.nickname} has friend: {user_1.friends}\")\n",
    "print(f\"user {user_2.nickname} has friend: {user_2.friends}\")\n",
    "print(f\"user {user_3.nickname} has friend: {user_3.friends}\")"
   ]
  }
 ],
 "metadata": {
  "interpreter": {
   "hash": "369f2c481f4da34e4445cda3fffd2e751bd1c4d706f27375911949ba6bb62e1c"
  },
  "kernelspec": {
   "display_name": "Python 3.10.4 64-bit",
   "language": "python",
   "name": "python3"
  },
  "language_info": {
   "codemirror_mode": {
    "name": "ipython",
    "version": 3
   },
   "file_extension": ".py",
   "mimetype": "text/x-python",
   "name": "python",
   "nbconvert_exporter": "python",
   "pygments_lexer": "ipython3",
   "version": "3.10.4"
  },
  "orig_nbformat": 4
 },
 "nbformat": 4,
 "nbformat_minor": 2
}
