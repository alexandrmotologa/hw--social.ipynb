{
 "cells": [
  {
   "cell_type": "markdown",
   "metadata": {},
   "source": [
    "def addFriend(self, friend)\n",
    "    friend_exists = False\n",
    "    if type(friend) != User:\n",
    "        return\n",
    "\n",
    "    for existing_friend in self.friends:\n",
    "        if existing_friend.nickname == friend.nickname:\n",
    "            friend_exists = True\n",
    "            break\n",
    "\n",
    "    if not friend_exists:\n",
    "        self.friends.append(friend)\n"
   ]
  },
  {
   "cell_type": "markdown",
   "metadata": {},
   "source": []
  },
  {
   "cell_type": "markdown",
   "metadata": {},
   "source": [
    "\n",
    "-----> <<funcdef>> ------> parameters ------> self, friend\n",
    "\n",
    "\n",
    "friend_exists <--------> False\n",
    "      |\n",
    "      <<<--->>> -------------------------------- -----------------------  <<<<------------>>>                                                                 <<--->>\n",
    "                                                                                                                                                                     ^\n",
    "-----> if ----->      type(friend)         ------> True (in our case it is not equal !=) -------> class User ------> continuous the function                         ^\n",
    "                    <<test expression>>        |                                                                                                                     |\n",
    "                                               |                                                                                                                     |\n",
    "                                               |                                                                                                                     |\n",
    "                                               ----> False (in our case it is equal ==) ---------> return ---------> the function stops                              |\n",
    "                                                                                                                                                                     |\n",
    "                                                                                                                                                                     v\n",
    "continuous the function ----------> condition <<existing_friend in self.friends>> ----------> True --------> (if) <<test expression>> ------> True ---------> friend_exists = True -------> break--v\n",
    "                                                                                             ^  |                                                                                                  v\n",
    "                                                                                             |  |                                                                                                  v\n",
    "                                                                                             |  |                                                                                              stop loop\n",
    "                                                                                             |  --> True --> (if) <<test expression>> ------> False --|                                            v\n",
    "                                                                                             |                                                        v                                            v\n",
    "                                                                                             |________________________________________________________|                               continuous function\n",
    "                                                                                                                                                                                                   v\n",
    "                                                                                                                                                                                                   v\n",
    "                                                                                                                                                                                                   v\n",
    "                                                                                                                                                                                                   v\n",
    "                                                                 self.friends.append(friend)      <-----<    friend_exists != True        -----< if-----<          <<<         \n",
    "                                                                          |                                                                       v\n",
    "                                                                          |                                                                       v\n",
    "                                                                          |                                                                 friend_exists == True  \n",
    "                                                                          v                                                                       v\n",
    "                                                                          class User                                                              v\n",
    "                                                                          |                                                                     pass (else)\n",
    "                                                                          |\n",
    "                                                                          v\n",
    "                                                                          (self)User.friends(list)\n",
    "                                                                          |\n",
    "                                                                          |\n",
    "                                                                          v\n",
    "                                                                          .append friend\n"
   ]
  }
 ],
 "metadata": {
  "language_info": {
   "name": "python"
  },
  "orig_nbformat": 4
 },
 "nbformat": 4,
 "nbformat_minor": 2
}
